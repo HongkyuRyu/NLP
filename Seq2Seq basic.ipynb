{
 "cells": [
  {
   "cell_type": "code",
   "execution_count": 9,
   "metadata": {},
   "outputs": [],
   "source": [
    "import zipfile\n",
    "kor_eng = zipfile.ZipFile('./kor-eng.zip')\n",
    "kor_eng.extractall()\n",
    "kor_eng.close()"
   ]
  },
  {
   "cell_type": "code",
   "execution_count": 11,
   "metadata": {},
   "outputs": [
    {
     "data": {
      "text/plain": [
       "(5749, 3)"
      ]
     },
     "execution_count": 11,
     "metadata": {},
     "output_type": "execute_result"
    }
   ],
   "source": [
    "import pandas as pd\n",
    "temp = pd.read_table('kor.txt', names=['Eng', 'Kor', 'license'])\n",
    "temp.shape"
   ]
  },
  {
   "cell_type": "code",
   "execution_count": 12,
   "metadata": {},
   "outputs": [
    {
     "data": {
      "text/html": [
       "<div>\n",
       "<style scoped>\n",
       "    .dataframe tbody tr th:only-of-type {\n",
       "        vertical-align: middle;\n",
       "    }\n",
       "\n",
       "    .dataframe tbody tr th {\n",
       "        vertical-align: top;\n",
       "    }\n",
       "\n",
       "    .dataframe thead th {\n",
       "        text-align: right;\n",
       "    }\n",
       "</style>\n",
       "<table border=\"1\" class=\"dataframe\">\n",
       "  <thead>\n",
       "    <tr style=\"text-align: right;\">\n",
       "      <th></th>\n",
       "      <th>Eng</th>\n",
       "      <th>Kor</th>\n",
       "      <th>license</th>\n",
       "    </tr>\n",
       "  </thead>\n",
       "  <tbody>\n",
       "    <tr>\n",
       "      <th>0</th>\n",
       "      <td>Go.</td>\n",
       "      <td>가.</td>\n",
       "      <td>CC-BY 2.0 (France) Attribution: tatoeba.org #2...</td>\n",
       "    </tr>\n",
       "    <tr>\n",
       "      <th>1</th>\n",
       "      <td>Hi.</td>\n",
       "      <td>안녕.</td>\n",
       "      <td>CC-BY 2.0 (France) Attribution: tatoeba.org #5...</td>\n",
       "    </tr>\n",
       "    <tr>\n",
       "      <th>2</th>\n",
       "      <td>Run!</td>\n",
       "      <td>뛰어!</td>\n",
       "      <td>CC-BY 2.0 (France) Attribution: tatoeba.org #9...</td>\n",
       "    </tr>\n",
       "    <tr>\n",
       "      <th>3</th>\n",
       "      <td>Run.</td>\n",
       "      <td>뛰어.</td>\n",
       "      <td>CC-BY 2.0 (France) Attribution: tatoeba.org #4...</td>\n",
       "    </tr>\n",
       "    <tr>\n",
       "      <th>4</th>\n",
       "      <td>Who?</td>\n",
       "      <td>누구?</td>\n",
       "      <td>CC-BY 2.0 (France) Attribution: tatoeba.org #2...</td>\n",
       "    </tr>\n",
       "  </tbody>\n",
       "</table>\n",
       "</div>"
      ],
      "text/plain": [
       "    Eng  Kor                                            license\n",
       "0   Go.   가.  CC-BY 2.0 (France) Attribution: tatoeba.org #2...\n",
       "1   Hi.  안녕.  CC-BY 2.0 (France) Attribution: tatoeba.org #5...\n",
       "2  Run!  뛰어!  CC-BY 2.0 (France) Attribution: tatoeba.org #9...\n",
       "3  Run.  뛰어.  CC-BY 2.0 (France) Attribution: tatoeba.org #4...\n",
       "4  Who?  누구?  CC-BY 2.0 (France) Attribution: tatoeba.org #2..."
      ]
     },
     "execution_count": 12,
     "metadata": {},
     "output_type": "execute_result"
    }
   ],
   "source": [
    "temp.head()"
   ]
  },
  {
   "cell_type": "code",
   "execution_count": 15,
   "metadata": {},
   "outputs": [
    {
     "name": "stdout",
     "output_type": "stream",
     "text": [
      "My cat is black.\n",
      "내 고양이는 검은색 고양이야.\n"
     ]
    }
   ],
   "source": [
    "eng_sent = temp['Eng'].tolist()\n",
    "kor_sent = temp['Kor'].tolist()\n",
    "\n",
    "print(eng_sent[1000])\n",
    "print(kor_sent[1000])"
   ]
  },
  {
   "attachments": {},
   "cell_type": "markdown",
   "metadata": {},
   "source": [
    "### 데이터 준비\n",
    "- 0. 단어와 구두점 사이 공백 만들기\n",
    "- 1. sos와 eos\n",
    "- 2. tokenizing, idx_seq, padding"
   ]
  },
  {
   "attachments": {},
   "cell_type": "markdown",
   "metadata": {},
   "source": [
    "#### 0. 단어와 구두점 사이 공백 만들기"
   ]
  },
  {
   "cell_type": "code",
   "execution_count": 19,
   "metadata": {},
   "outputs": [],
   "source": [
    "import unicodedata\n",
    "import re\n",
    "def unicode_to_ascii(s):\n",
    "    return ''.join(c for c in unicodedata.normalize('NFD', s)\n",
    "        if unicodedata.category(c) != 'Mn')\n",
    "def eng_preprocessor(sent):\n",
    "    sent = unicode_to_ascii(sent.lower())\n",
    "    \n",
    "    # 단어와 구두점 사이에 공백을 만든다.\n",
    "    sent = re.sub(r\"([?.!,'¿])\", r\" \\1 \", sent)\n",
    "    \n",
    "    # (a-z, A-Z, \".\", \"?\", \"!\", \",\") 이들을 제외하고는 전부 공백으로 변환합니다.\n",
    "    sent = re.sub(r\"[^a-zA-Z!.?']+\", r\" \", sent)\n",
    "    \n",
    "    sent = re.sub(r\"\\s+\", \" \", sent)\n",
    "    \n",
    "    return sent\n",
    "\n",
    "def kor_preprocessor(sent):\n",
    "    sent = unicode_to_ascii(sent.lower())\n",
    "    \n",
    "    # 단어와 구두점 사이에 공백을 만든다.\n",
    "    sent = re.sub(r\"([?.!,'¿])\", r\" \\1 \", sent)\n",
    "    sent = re.sub(r\"\\s+\", \" \", sent)\n",
    "    return sent"
   ]
  },
  {
   "cell_type": "code",
   "execution_count": 20,
   "metadata": {},
   "outputs": [
    {
     "data": {
      "text/plain": [
       "\"i ' m a just a poor boy . \""
      ]
     },
     "execution_count": 20,
     "metadata": {},
     "output_type": "execute_result"
    }
   ],
   "source": [
    "eng_preprocessor(\"I'm a just a poor boy.\")"
   ]
  },
  {
   "cell_type": "code",
   "execution_count": 21,
   "metadata": {},
   "outputs": [
    {
     "name": "stdout",
     "output_type": "stream",
     "text": [
      "my cat is black . \n",
      "내 고양이는 검은색 고양이야 . \n"
     ]
    }
   ],
   "source": [
    "eng_sent = [ eng_preprocessor(sent) for sent in eng_sent]\n",
    "kor_sent = [ kor_preprocessor(sent) for sent in kor_sent]\n",
    "\n",
    "print(eng_sent[1000])\n",
    "print(kor_sent[1000])"
   ]
  },
  {
   "attachments": {},
   "cell_type": "markdown",
   "metadata": {},
   "source": [
    "#### 1. sos와 eos\n",
    "- 1. sos: start of speech\n",
    "- 2. eos: end of speech"
   ]
  },
  {
   "cell_type": "code",
   "execution_count": 22,
   "metadata": {},
   "outputs": [
    {
     "data": {
      "text/plain": [
       "'<sos> 내 고양이는 검은색 고양이야 .  <eos>'"
      ]
     },
     "execution_count": 22,
     "metadata": {},
     "output_type": "execute_result"
    }
   ],
   "source": [
    "# 한국어 문장 전 후에 <sos>와 <eos>를 추가한다.\n",
    "kor_sent = [f'<sos> {kor} <eos>' for kor in kor_sent]\n",
    "kor_sent[1000] "
   ]
  },
  {
   "attachments": {},
   "cell_type": "markdown",
   "metadata": {},
   "source": [
    "#### 2. Tokenizing, idx_seq, padding"
   ]
  },
  {
   "cell_type": "code",
   "execution_count": 23,
   "metadata": {},
   "outputs": [],
   "source": [
    "from tensorflow.keras.preprocessing.text import Tokenizer\n",
    "from tensorflow.keras.preprocessing.sequence import pad_sequences"
   ]
  },
  {
   "cell_type": "code",
   "execution_count": 24,
   "metadata": {},
   "outputs": [],
   "source": [
    "# Tokenizing : 한국어는 lower=False\n",
    "tokenizer_en = Tokenizer(filters=\"\", lower=True)\n",
    "tokenizer_en.fit_on_texts(eng_sent)\n",
    "tokenizer_kor = Tokenizer(filters=\"\", lower=False)\n",
    "tokenizer_kor.fit_on_texts(kor_sent)"
   ]
  },
  {
   "cell_type": "code",
   "execution_count": null,
   "metadata": {},
   "outputs": [],
   "source": [
    "tokenizer_en.word_index\n",
    "\"\"\"\n",
    "{'.': 1,\n",
    " 'i': 2,\n",
    " \"'\": 3,\n",
    " 'tom': 4,\n",
    "\"\"\"\n",
    "\n",
    "tokenizer_kor.word_index\n",
    "\"\"\"\n",
    "'<sos>': 1,\n",
    "'<eos>': 2,\n",
    " '.': 3,\n",
    " '?': 4,\n",
    " \"\"\""
   ]
  },
  {
   "cell_type": "code",
   "execution_count": 52,
   "metadata": {},
   "outputs": [
    {
     "data": {
      "text/plain": [
       "(3076, 7843)"
      ]
     },
     "execution_count": 52,
     "metadata": {},
     "output_type": "execute_result"
    }
   ],
   "source": [
    "len(tokenizer_en.word_index), len(tokenizer_kor.word_index)"
   ]
  },
  {
   "cell_type": "code",
   "execution_count": 25,
   "metadata": {},
   "outputs": [
    {
     "name": "stdout",
     "output_type": "stream",
     "text": [
      "[22, 136, 9, 558, 1]\n",
      "[1, 14, 259, 1111, 1089, 3, 2]\n"
     ]
    }
   ],
   "source": [
    "# Index Sequence\n",
    "eng_seq = tokenizer_en.texts_to_sequences(eng_sent)\n",
    "kor_seq = tokenizer_kor.texts_to_sequences(kor_sent)\n",
    "\n",
    "print(eng_seq[1000])\n",
    "print(kor_seq[1000])"
   ]
  },
  {
   "cell_type": "code",
   "execution_count": 27,
   "metadata": {},
   "outputs": [
    {
     "name": "stdout",
     "output_type": "stream",
     "text": [
      "(5749, 102)\n",
      "(5749, 97)\n"
     ]
    }
   ],
   "source": [
    "# padding: 최대 문장 길이에 맞춰지도록 한다.\n",
    "eng_pad = pad_sequences(eng_seq)\n",
    "kor_pad = pad_sequences(kor_seq)\n",
    "\n",
    "print(eng_pad.shape)\n",
    "print(kor_pad.shape)"
   ]
  },
  {
   "cell_type": "code",
   "execution_count": 36,
   "metadata": {},
   "outputs": [
    {
     "data": {
      "text/plain": [
       "[22, 136, 9, 558, 1]"
      ]
     },
     "execution_count": 36,
     "metadata": {},
     "output_type": "execute_result"
    }
   ],
   "source": [
    "eng_seq[1000]"
   ]
  },
  {
   "cell_type": "code",
   "execution_count": 42,
   "metadata": {},
   "outputs": [
    {
     "data": {
      "text/plain": [
       "array([  0,   0,   0,   0,   0,   0,   0,   0,   0,   0,   0,   0,   0,\n",
       "         0,   0,   0,   0,   0,   0,   0,   0,   0,   0,   0,   0,   0,\n",
       "         0,   0,   0,   0,   0,   0,   0,   0,   0,   0,   0,   0,   0,\n",
       "         0,   0,   0,   0,   0,   0,   0,   0,   0,   0,   0,   0,   0,\n",
       "         0,   0,   0,   0,   0,   0,   0,   0,   0,   0,   0,   0,   0,\n",
       "         0,   0,   0,   0,   0,   0,   0,   0,   0,   0,   0,   0,   0,\n",
       "         0,   0,   0,   0,   0,   0,   0,   0,   0,   0,   0,   0,   0,\n",
       "         0,   0,   0,   0,   0,   0,  22, 136,   9, 558,   1])"
      ]
     },
     "execution_count": 42,
     "metadata": {},
     "output_type": "execute_result"
    }
   ],
   "source": [
    "pad_sequences(eng_seq)[1000] #문장의 최대길이가 97이므로 0으로 모두 채운것임."
   ]
  },
  {
   "cell_type": "code",
   "execution_count": 28,
   "metadata": {},
   "outputs": [
    {
     "name": "stdout",
     "output_type": "stream",
     "text": [
      "영어 단어 집합의 크기: 3077\n",
      "한국어 단어 집합의 크기: 7844\n"
     ]
    }
   ],
   "source": [
    "# tokenizer에서 0 index가 구성되어있지 않지만,\n",
    "# pad_sequence에서 pad의 의미로 0을 사용하고 있기 때문에, 전체 사이즈를 구할 때 +1을 해준다.\n",
    "\n",
    "eng_vocab_size = len(tokenizer_en.word_index) + 1\n",
    "kor_vocab_size = len(tokenizer_kor.word_index) + 1\n",
    "print(\"영어 단어 집합의 크기: {:d}\\n한국어 단어 집합의 크기: {:d}\".format(eng_vocab_size, kor_vocab_size))"
   ]
  },
  {
   "attachments": {},
   "cell_type": "markdown",
   "metadata": {},
   "source": [
    "- pad_sequence를 통해 tokenizer_한 en, kor에 각각 0값이 추가됨\n",
    "- 0값은 padding의 의미임\n",
    "- 따라서, 0값은 제외하고 생각해준다."
   ]
  },
  {
   "attachments": {},
   "cell_type": "markdown",
   "metadata": {},
   "source": [
    "#### 모델링"
   ]
  },
  {
   "cell_type": "code",
   "execution_count": 29,
   "metadata": {},
   "outputs": [],
   "source": [
    "import tensorflow as tf\n",
    "from tensorflow.keras.layers import Input, Embedding, GRU, Dense"
   ]
  },
  {
   "cell_type": "code",
   "execution_count": 66,
   "metadata": {},
   "outputs": [
    {
     "name": "stdout",
     "output_type": "stream",
     "text": [
      "Model: \"model\"\n",
      "__________________________________________________________________________________________________\n",
      "Layer (type)                    Output Shape         Param #     Connected to                     \n",
      "==================================================================================================\n",
      "input_1 (InputLayer)            [(None, 102)]        0                                            \n",
      "__________________________________________________________________________________________________\n",
      "input_2 (InputLayer)            [(None, 96)]         0                                            \n",
      "__________________________________________________________________________________________________\n",
      "embedding (Embedding)           (None, 102, 128)     393856      input_1[0][0]                    \n",
      "__________________________________________________________________________________________________\n",
      "embedding_1 (Embedding)         (None, 96, 128)      1004032     input_2[0][0]                    \n",
      "__________________________________________________________________________________________________\n",
      "gru (GRU)                       [(None, 102, 512), ( 986112      embedding[0][0]                  \n",
      "__________________________________________________________________________________________________\n",
      "gru_1 (GRU)                     (None, 96, 512)      986112      embedding_1[0][0]                \n",
      "                                                                 gru[0][1]                        \n",
      "__________________________________________________________________________________________________\n",
      "dense (Dense)                   (None, 96, 512)      262656      gru_1[0][0]                      \n",
      "__________________________________________________________________________________________________\n",
      "dense_1 (Dense)                 (None, 96, 7844)     4023972     dense[0][0]                      \n",
      "==================================================================================================\n",
      "Total params: 7,656,740\n",
      "Trainable params: 7,656,740\n",
      "Non-trainable params: 0\n",
      "__________________________________________________________________________________________________\n"
     ]
    }
   ],
   "source": [
    "tf.keras.backend.clear_session()\n",
    "\n",
    "# 한국어 단어 집합의 크기: 7844, (5749, 97) # 영어단어 집합의 크기, 데이터갯수, 최대문장길이\n",
    "# 영어 단어 집합의 크기: 3077, (5749, 102) # 한국어단어 집합의 크기, 데이터갯수, 최대문장길이\n",
    "\n",
    "# Encoder\n",
    "enc_X = Input(shape=[eng_pad.shape[1]]) # 102(영어 최대 문장 길이)\n",
    "# 모든 임베딩 레이어는 128개 차원으로 구성  #단어집합(=토큰들) 임베딩\n",
    "enc_E = Embedding(eng_vocab_size, 128)(enc_X) # 토큰수, 차원수\n",
    "# 인코더 GRU, 히든스테이트 512로 구성\n",
    "enc_S_full, enc_S = GRU(512, return_sequences=True, return_state=True)(enc_E)\n",
    "\n",
    "\n",
    "# Decoder\n",
    "dec_X = Input(shape=[kor_pad.shape[1]-1]) # decoder의 인풋은 마지막 <eos>를 뗀다.\n",
    "# 모든 임베딩 레이어는 128개의 차원으로 구성 # 단어집합(=토큰들) 임베딩\n",
    "dec_E = Embedding(kor_vocab_size, 128)(dec_X) # 토큰수, 차원수\n",
    "# 디코더 GRU, 히든스테이트 512로 구성\n",
    "dec_H = GRU(512, return_sequences=True)(dec_E, initial_state=enc_S) #initial_state에는 encoder의 가장 마지막 값이 들어감\n",
    "dec_H = Dense(512, activation='swish')(dec_H)\n",
    "dec_Y = Dense(kor_vocab_size, activation='softmax')(dec_H)\n",
    "\n",
    "#Model\n",
    "model = tf.keras.models.Model([enc_X, dec_X], dec_Y)\n",
    "\n",
    "model.compile(loss='sparse_categorical_crossentropy',\n",
    "              optimizer='rmsprop',\n",
    "              metrics=['accuracy'])\n",
    "model.summary()\n",
    " \n",
    "\n"
   ]
  },
  {
   "cell_type": "code",
   "execution_count": 67,
   "metadata": {},
   "outputs": [
    {
     "data": {
      "text/plain": [
       "array([0, 0, 0, ..., 0, 0, 1])"
      ]
     },
     "execution_count": 67,
     "metadata": {},
     "output_type": "execute_result"
    }
   ],
   "source": [
    "kor_pad[:, 0] # <sos> 부분은 제거해야함."
   ]
  },
  {
   "cell_type": "code",
   "execution_count": 69,
   "metadata": {},
   "outputs": [
    {
     "name": "stdout",
     "output_type": "stream",
     "text": [
      "Epoch 1/10\n",
      "45/45 [==============================] - 5s 112ms/step - loss: 0.3476 - accuracy: 0.9474\n",
      "Epoch 2/10\n",
      "45/45 [==============================] - 5s 111ms/step - loss: 0.3375 - accuracy: 0.9477\n",
      "Epoch 3/10\n",
      "45/45 [==============================] - 5s 108ms/step - loss: 0.3290 - accuracy: 0.9479\n",
      "Epoch 4/10\n",
      "45/45 [==============================] - 5s 108ms/step - loss: 0.3214 - accuracy: 0.9480\n",
      "Epoch 5/10\n",
      "45/45 [==============================] - 5s 108ms/step - loss: 0.3130 - accuracy: 0.9484\n",
      "Epoch 6/10\n",
      "45/45 [==============================] - 5s 108ms/step - loss: 0.3077 - accuracy: 0.9486\n",
      "Epoch 7/10\n",
      "45/45 [==============================] - 5s 109ms/step - loss: 0.2990 - accuracy: 0.9489\n",
      "Epoch 8/10\n",
      "45/45 [==============================] - 5s 110ms/step - loss: 0.2927 - accuracy: 0.9491\n",
      "Epoch 9/10\n",
      "45/45 [==============================] - 5s 109ms/step - loss: 0.2837 - accuracy: 0.9495\n",
      "Epoch 10/10\n",
      "45/45 [==============================] - 5s 109ms/step - loss: 0.2776 - accuracy: 0.9498\n"
     ]
    }
   ],
   "source": [
    "# decoder의 인풋은 마지막 <eos>를 뗀다.\n",
    "# decoder의 아웃풋은 학습시에 처음의 <sos>를 뗀다.\n",
    "\n",
    "history = model.fit([eng_pad, kor_pad[:, :-1]], kor_pad[:,1:], shuffle=True, \n",
    "          batch_size=128, epochs=10)"
   ]
  },
  {
   "cell_type": "code",
   "execution_count": 77,
   "metadata": {},
   "outputs": [
    {
     "data": {
      "image/png": "[encoded data removed]",
      "text/plain": [
       "<Figure size 1000x500 with 1 Axes>"
      ]
     },
     "metadata": {},
     "output_type": "display_data"
    }
   ],
   "source": [
    "import matplotlib.pyplot as plt\n",
    "\n",
    "plt.figure(figsize=(10, 5))\n",
    "plt.plot(history.history['accuracy'])\n",
    "plt.legend(['Training'], loc=0)\n",
    "plt.show()\n"
   ]
  },
  {
   "cell_type": "code",
   "execution_count": null,
   "metadata": {},
   "outputs": [],
   "source": []
  }
 ],
 "metadata": {
  "kernelspec": {
   "display_name": "tistory",
   "language": "python",
   "name": "tistory"
  },
  "language_info": {
   "codemirror_mode": {
    "name": "ipython",
    "version": 3
   },
   "file_extension": ".py",
   "mimetype": "text/x-python",
   "name": "python",
   "nbconvert_exporter": "python",
   "pygments_lexer": "ipython3",
   "version": "3.7.16"
  },
  "orig_nbformat": 4
 },
 "nbformat": 4,
 "nbformat_minor": 2
}
